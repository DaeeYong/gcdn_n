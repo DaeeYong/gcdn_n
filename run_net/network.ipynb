{
 "cells": [
  {
   "cell_type": "code",
   "execution_count": 36,
   "metadata": {},
   "outputs": [],
   "source": [
    "from dragon import dragonV\n",
    "import numpy as np\n",
    "import torch"
   ]
  },
  {
   "cell_type": "markdown",
   "metadata": {},
   "source": [
    "## data processing"
   ]
  },
  {
   "cell_type": "code",
   "execution_count": 14,
   "metadata": {},
   "outputs": [],
   "source": [
    "input_path = '/Users/ivory/Documents/github/gcdn_n/run_net/input/fast_rear.xlsx'\n",
    "output_path = '/Users/ivory/Documents/github/gcdn_n/run_net/output/'\n",
    "seleted_openpose_joint_idx_list = [8, 9, 10, 11, 12, 13, 14, 19, 20, 21, 22, 23, 24]"
   ]
  },
  {
   "cell_type": "code",
   "execution_count": 18,
   "metadata": {},
   "outputs": [],
   "source": [
    "frame_list = dragonV.xlsx2data(input_path)\n",
    "#normalization\n",
    "norm_frame_list =  dragonV.nomalize_data(frame_list)\n",
    "#select lower joint\n",
    "selected_norm_frame_data_list = dragonV.get_selected_joint_pos_frame_list(norm_frame_list, seleted_openpose_joint_idx_list)"
   ]
  },
  {
   "cell_type": "code",
   "execution_count": 17,
   "metadata": {},
   "outputs": [
    {
     "data": {
      "text/plain": [
       "207"
      ]
     },
     "execution_count": 17,
     "metadata": {},
     "output_type": "execute_result"
    }
   ],
   "source": [
    "len(selected_norm_frame_data_list)"
   ]
  },
  {
   "cell_type": "code",
   "execution_count": 21,
   "metadata": {},
   "outputs": [
    {
     "data": {
      "text/plain": [
       "array([[0.99997877, 0.99977087, 0.99982422, ..., 1.        , 0.99366179,\n",
       "        1.        ],\n",
       "       [0.99997877, 0.99977087, 0.99982422, ..., 1.        , 0.99366179,\n",
       "        1.        ],\n",
       "       [0.99997877, 0.99997454, 0.99982422, ..., 1.        , 0.99361823,\n",
       "        1.        ],\n",
       "       ...,\n",
       "       [0.00607244, 0.02661326, 0.0285346 , ..., 0.66846091, 0.00659958,\n",
       "        0.01616173],\n",
       "       [0.00596628, 0.02583251, 0.02839788, ..., 0.66578815, 0.01280711,\n",
       "        0.00812195],\n",
       "       [0.        , 0.02723276, 0.        , ..., 0.66302423, 0.        ,\n",
       "        0.        ]])"
      ]
     },
     "execution_count": 21,
     "metadata": {},
     "output_type": "execute_result"
    }
   ],
   "source": [
    "np.array(selected_norm_frame_data_list)"
   ]
  },
  {
   "cell_type": "code",
   "execution_count": 28,
   "metadata": {},
   "outputs": [],
   "source": [
    "def sliding_window(input_list, window_size):\n",
    "    return [input_list[i:i + window_size] for i in range(len(input_list) - window_size + 1)]\n",
    "\n",
    "input_features = sliding_window(selected_norm_frame_data_list, 9)\n"
   ]
  },
  {
   "cell_type": "code",
   "execution_count": 35,
   "metadata": {},
   "outputs": [
    {
     "name": "stdout",
     "output_type": "stream",
     "text": [
      "samples:  199\n",
      "timesteps:  9\n",
      "features:  26\n"
     ]
    }
   ],
   "source": [
    "print('samples: ',len(input_features))\n",
    "print('timesteps: ',len(input_features[0]))\n",
    "print('features: ',len(input_features[0][0]))"
   ]
  },
  {
   "cell_type": "code",
   "execution_count": 57,
   "metadata": {},
   "outputs": [
    {
     "name": "stdout",
     "output_type": "stream",
     "text": [
      "torch.Size([199, 9, 26])\n"
     ]
    }
   ],
   "source": [
    "input_data_torch = torch.from_numpy((np.array(input_features)))\n",
    "print(input_data_torch.shape)\n",
    "input_data_torch = input_data_torch.to(torch.float32)"
   ]
  },
  {
   "cell_type": "code",
   "execution_count": 59,
   "metadata": {},
   "outputs": [
    {
     "data": {
      "text/plain": [
       "tensor([1.0000, 0.9998, 0.9998, 0.9995, 0.9999, 0.9886, 0.9936, 1.0000, 1.0000,\n",
       "        0.9995, 0.9934, 0.9993, 0.9999, 1.0000, 0.0000, 0.0000, 0.0000, 0.0000,\n",
       "        0.9856, 1.0000, 1.0000, 1.0000, 1.0000, 1.0000, 0.9937, 1.0000])"
      ]
     },
     "execution_count": 59,
     "metadata": {},
     "output_type": "execute_result"
    }
   ],
   "source": [
    "input_data_torch[0][0]"
   ]
  },
  {
   "cell_type": "code",
   "execution_count": 43,
   "metadata": {},
   "outputs": [
    {
     "name": "stdout",
     "output_type": "stream",
     "text": [
      "NaN 값이 있는지 여부: False\n"
     ]
    }
   ],
   "source": [
    "has_nan = torch.isnan(input_data_torch).any().item()\n",
    "print(\"NaN 값이 있는지 여부:\", has_nan)"
   ]
  },
  {
   "cell_type": "markdown",
   "metadata": {},
   "source": [
    "## NetWork Part"
   ]
  },
  {
   "cell_type": "code",
   "execution_count": 45,
   "metadata": {},
   "outputs": [],
   "source": [
    "import torch\n",
    "import torch.nn as nn"
   ]
  },
  {
   "cell_type": "code",
   "execution_count": 46,
   "metadata": {},
   "outputs": [],
   "source": [
    "class LSTM(nn.Module):\n",
    "    def __init__(self, input_size, hidden_size, output_size):\n",
    "        super(LSTM, self).__init__()\n",
    "        \n",
    "        self.hidden_size = hidden_size\n",
    "        \n",
    "        self.lstm = nn.LSTM(input_size, hidden_size, batch_first=True)\n",
    "        self.fc = nn.Linear(hidden_size, output_size)\n",
    "        self.sigmoid = nn.Sigmoid()\n",
    "\n",
    "    def forward(self, x):\n",
    "        _, (hidden, _) = self.lstm(x)\n",
    "        out = self.fc(hidden[-1])\n",
    "        out = self.sigmoid(out)\n",
    "        return out"
   ]
  },
  {
   "cell_type": "code",
   "execution_count": 47,
   "metadata": {},
   "outputs": [],
   "source": [
    "input_size = 26\n",
    "output_size = 4\n",
    "hidden_size = 128"
   ]
  },
  {
   "cell_type": "code",
   "execution_count": 48,
   "metadata": {},
   "outputs": [],
   "source": [
    "model = LSTM(input_size, hidden_size, output_size)"
   ]
  },
  {
   "cell_type": "code",
   "execution_count": 49,
   "metadata": {},
   "outputs": [
    {
     "data": {
      "text/plain": [
       "LSTM(\n",
       "  (lstm): LSTM(26, 128, batch_first=True)\n",
       "  (fc): Linear(in_features=128, out_features=4, bias=True)\n",
       "  (sigmoid): Sigmoid()\n",
       ")"
      ]
     },
     "execution_count": 49,
     "metadata": {},
     "output_type": "execute_result"
    }
   ],
   "source": [
    "model_weights = torch.load('../models/100_epochs.pth', map_location=torch.device('cpu'))\n",
    "model.load_state_dict(model_weights)\n",
    "model.eval()"
   ]
  },
  {
   "cell_type": "code",
   "execution_count": 107,
   "metadata": {},
   "outputs": [],
   "source": [
    "output = model(input_data_torch)"
   ]
  },
  {
   "cell_type": "code",
   "execution_count": 108,
   "metadata": {},
   "outputs": [],
   "source": [
    "predicted = (output > 0.5).int()\n",
    "predicted_np =  predicted.numpy()"
   ]
  },
  {
   "cell_type": "code",
   "execution_count": 109,
   "metadata": {},
   "outputs": [],
   "source": [
    "margin_np = np.array([[0,0,0,0], [0,0,0,0], [0,0,0,0], [0,0,0,0]])\n",
    "m_predicted_np = np.append(margin_np, predicted_np, axis=0)\n",
    "m_predicted_np = np.append(m_predicted_np, margin_np, axis=0)\n"
   ]
  },
  {
   "cell_type": "code",
   "execution_count": 111,
   "metadata": {},
   "outputs": [
    {
     "data": {
      "text/plain": [
       "207"
      ]
     },
     "execution_count": 111,
     "metadata": {},
     "output_type": "execute_result"
    }
   ],
   "source": [
    "len(m_predicted_np)"
   ]
  },
  {
   "cell_type": "code",
   "execution_count": 112,
   "metadata": {},
   "outputs": [],
   "source": [
    "np.save(output_path + '/predicted.npy', m_predicted_np)"
   ]
  }
 ],
 "metadata": {
  "kernelspec": {
   "display_name": "Python 3",
   "language": "python",
   "name": "python3"
  },
  "language_info": {
   "codemirror_mode": {
    "name": "ipython",
    "version": 3
   },
   "file_extension": ".py",
   "mimetype": "text/x-python",
   "name": "python",
   "nbconvert_exporter": "python",
   "pygments_lexer": "ipython3",
   "version": "3.12.1"
  }
 },
 "nbformat": 4,
 "nbformat_minor": 2
}
