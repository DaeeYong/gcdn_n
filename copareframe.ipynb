{
 "cells": [
  {
   "cell_type": "markdown",
   "metadata": {},
   "source": [
    "openpose frame len <----> gt len 비교"
   ]
  },
  {
   "cell_type": "code",
   "execution_count": 20,
   "metadata": {},
   "outputs": [],
   "source": [
    "import os\n",
    "import pandas as pd\n",
    "import numpy as np"
   ]
  },
  {
   "cell_type": "code",
   "execution_count": 21,
   "metadata": {},
   "outputs": [],
   "source": [
    "jointAndGt_path = 'C:/Users/admin/Desktop/Philadelphia/jointAndGt/'"
   ]
  },
  {
   "cell_type": "code",
   "execution_count": 22,
   "metadata": {},
   "outputs": [],
   "source": [
    "ppxx_list = ['pp086', 'pp087', 'pp088', 'pp089']\n",
    "xlsx_name_list = ['idx0.xlsx', 'idx1.xlsx']"
   ]
  },
  {
   "cell_type": "code",
   "execution_count": 25,
   "metadata": {},
   "outputs": [
    {
     "name": "stdout",
     "output_type": "stream",
     "text": [
      "****pp086:len[14]****\n",
      "pp086 -> pp086_omc_gait1_front.mp4 : [openpose_len : gt_len = 295 : 317]\n",
      "pp086 -> pp086_omc_gait1_rear.mp4 : [openpose_len : gt_len = 295 : 317]\n",
      "pp086 -> pp086_omc_gait2_front.mp4 : [openpose_len : gt_len = 263 : 284]\n",
      "pp086 -> pp086_omc_gait2_rear.mp4 : [openpose_len : gt_len = 263 : 284]\n",
      "pp086 -> pp086_omc_walk_fast_front.mp4 : [openpose_len : gt_len = 251 : 272]\n",
      "pp086 -> pp086_omc_walk_fast_rear.mp4 : [openpose_len : gt_len = 251 : 272]\n",
      "pp086 -> pp086_omc_walk_preferred_front.mp4 : [openpose_len : gt_len = 422 : 443]\n",
      "pp086 -> pp086_omc_walk_preferred_rear.mp4 : [openpose_len : gt_len = 422 : 443]\n",
      "pp086 -> pp086_omc_walk_slow_front.mp4 : [openpose_len : gt_len = 783 : 808]\n",
      "pp086 -> pp086_omc_walk_slow_rear.mp4 : [openpose_len : gt_len = 783 : 808]\n",
      "pp086 -> pp086_omc_walk_stroop_front.mp4 : [openpose_len : gt_len = 1779 : 1804]\n",
      "pp086 -> pp086_omc_walk_stroop_rear.mp4 : [openpose_len : gt_len = 1779 : 1804]\n",
      "pp086 -> pp086_omc_walk_turn_front.mp4 : [openpose_len : gt_len = 1414 : 1438]\n",
      "pp086 -> pp086_omc_walk_turn_rear.mp4 : [openpose_len : gt_len = 1414 : 1438]\n",
      "****pp087:len[14]****\n",
      "pp087 -> pp087_omc_gait1_front.mp4 : [openpose_len : gt_len = 276 : 301]\n",
      "pp087 -> pp087_omc_gait1_rear.mp4 : [openpose_len : gt_len = 276 : 301]\n",
      "pp087 -> pp087_omc_gait2_front.mp4 : [openpose_len : gt_len = 242 : 266]\n",
      "pp087 -> pp087_omc_gait2_rear.mp4 : [openpose_len : gt_len = 242 : 266]\n",
      "pp087 -> pp087_omc_walk_fast_front.mp4 : [openpose_len : gt_len = 319 : 341]\n",
      "pp087 -> pp087_omc_walk_fast_rear.mp4 : [openpose_len : gt_len = 319 : 341]\n",
      "pp087 -> pp087_omc_walk_preferred_front.mp4 : [openpose_len : gt_len = 322 : 345]\n",
      "pp087 -> pp087_omc_walk_preferred_rear.mp4 : [openpose_len : gt_len = 322 : 345]\n",
      "pp087 -> pp087_omc_walk_slow_front.mp4 : [openpose_len : gt_len = 365 : 386]\n",
      "pp087 -> pp087_omc_walk_slow_rear.mp4 : [openpose_len : gt_len = 365 : 386]\n",
      "pp087 -> pp087_omc_walk_stroop_front.mp4 : [openpose_len : gt_len = 1592 : 1613]\n",
      "pp087 -> pp087_omc_walk_stroop_rear.mp4 : [openpose_len : gt_len = 1592 : 1613]\n",
      "pp087 -> pp087_omc_walk_turn_front.mp4 : [openpose_len : gt_len = 1089 : 1110]\n",
      "pp087 -> pp087_omc_walk_turn_rear.mp4 : [openpose_len : gt_len = 1089 : 1110]\n",
      "****pp088:len[14]****\n",
      "pp088 -> pp088_omc_gait1_front.mp4 : [openpose_len : gt_len = 162 : 182]\n",
      "pp088 -> pp088_omc_gait1_rear.mp4 : [openpose_len : gt_len = 162 : 182]\n",
      "pp088 -> pp088_omc_gait2_front.mp4 : [openpose_len : gt_len = 180 : 202]\n",
      "pp088 -> pp088_omc_gait2_rear.mp4 : [openpose_len : gt_len = 180 : 202]\n",
      "pp088 -> pp088_omc_walk_fast_front.mp4 : [openpose_len : gt_len = 136 : 159]\n",
      "pp088 -> pp088_omc_walk_fast_rear.mp4 : [openpose_len : gt_len = 136 : 159]\n",
      "pp088 -> pp088_omc_walk_preferred_front.mp4 : [openpose_len : gt_len = 170 : 192]\n",
      "pp088 -> pp088_omc_walk_preferred_rear.mp4 : [openpose_len : gt_len = 170 : 192]\n",
      "pp088 -> pp088_omc_walk_slow_front.mp4 : [openpose_len : gt_len = 316 : 337]\n",
      "pp088 -> pp088_omc_walk_slow_rear.mp4 : [openpose_len : gt_len = 316 : 337]\n",
      "pp088 -> pp088_omc_walk_stroop_front.mp4 : [openpose_len : gt_len = 1511 : 1532]\n",
      "pp088 -> pp088_omc_walk_stroop_rear.mp4 : [openpose_len : gt_len = 1511 : 1532]\n",
      "pp088 -> pp088_omc_walk_turn_front.mp4 : [openpose_len : gt_len = 923 : 948]\n",
      "pp088 -> pp088_omc_walk_turn_rear.mp4 : [openpose_len : gt_len = 923 : 948]\n",
      "****pp089:len[14]****\n",
      "pp089 -> pp089_omc_gait1_front.mp4 : [openpose_len : gt_len = 168 : 191]\n",
      "pp089 -> pp089_omc_gait1_rear.mp4 : [openpose_len : gt_len = 168 : 191]\n",
      "pp089 -> pp089_omc_gait2_front.mp4 : [openpose_len : gt_len = 156 : 179]\n",
      "pp089 -> pp089_omc_gait2_rear.mp4 : [openpose_len : gt_len = 156 : 179]\n",
      "pp089 -> pp089_omc_walk_fast_front.mp4 : [openpose_len : gt_len = 224 : 247]\n",
      "pp089 -> pp089_omc_walk_fast_rear.mp4 : [openpose_len : gt_len = 224 : 247]\n",
      "pp089 -> pp089_omc_walk_preferred_front.mp4 : [openpose_len : gt_len = 220 : 242]\n",
      "pp089 -> pp089_omc_walk_preferred_rear.mp4 : [openpose_len : gt_len = 220 : 242]\n",
      "pp089 -> pp089_omc_walk_slow_front.mp4 : [openpose_len : gt_len = 318 : 333]\n",
      "pp089 -> pp089_omc_walk_slow_rear.mp4 : [openpose_len : gt_len = 318 : 333]\n",
      "pp089 -> pp089_omc_walk_stroop_front.mp4 : [openpose_len : gt_len = 2177 : 2197]\n",
      "pp089 -> pp089_omc_walk_stroop_rear.mp4 : [openpose_len : gt_len = 2172 : 2197]\n",
      "pp089 -> pp089_omc_walk_turn_front.mp4 : [openpose_len : gt_len = 1171 : 1196]\n",
      "pp089 -> pp089_omc_walk_turn_rear.mp4 : [openpose_len : gt_len = 1171 : 1196]\n"
     ]
    }
   ],
   "source": [
    "for ppxx in ppxx_list:\n",
    "    # pxx의 경로\n",
    "    ppxx_path = jointAndGt_path +  ppxx + '/'\n",
    "    # PPXX 내부의 비디오 폴더 목록 가져오기 \n",
    "    video_list = os.listdir(ppxx_path)\n",
    "\n",
    "    print(f'****{ppxx}:len[{len(video_list)}]****')\n",
    "    for each_video in video_list:\n",
    "        ppxx_each_video_path = ppxx_path + each_video + '/'\n",
    "        # idx0, idx1, gt.npy\n",
    "        file_list = os.listdir(ppxx_each_video_path)\n",
    "        #idx0 가져오기\n",
    "        df = pd.read_excel(ppxx_each_video_path + xlsx_name_list[0])\n",
    "        # GT 가져오기\n",
    "        gt_file_name = [file for file in file_list if file.endswith('npy')]\n",
    "        gt = np.load(ppxx_each_video_path + gt_file_name[0])\n",
    "\n",
    "        #####데이터 길이 가져오기###\n",
    "        openpose_len = len(df)\n",
    "        gt_len = gt.shape[0]\n",
    "\n",
    "        #########길이 비교 포맷#############\n",
    "        print(f'{ppxx} -> {each_video} : [openpose_len : gt_len = {openpose_len} : {gt_len}]')\n"
   ]
  },
  {
   "cell_type": "code",
   "execution_count": null,
   "metadata": {},
   "outputs": [],
   "source": []
  }
 ],
 "metadata": {
  "kernelspec": {
   "display_name": "Python 3",
   "language": "python",
   "name": "python3"
  },
  "language_info": {
   "codemirror_mode": {
    "name": "ipython",
    "version": 3
   },
   "file_extension": ".py",
   "mimetype": "text/x-python",
   "name": "python",
   "nbconvert_exporter": "python",
   "pygments_lexer": "ipython3",
   "version": "3.11.7"
  }
 },
 "nbformat": 4,
 "nbformat_minor": 2
}
