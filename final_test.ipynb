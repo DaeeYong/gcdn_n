{
 "cells": [
  {
   "cell_type": "code",
   "execution_count": 2,
   "metadata": {},
   "outputs": [],
   "source": [
    "from dragon import dragonV\n",
    "import torch\n",
    "import torch.nn as nn\n",
    "import torch.optim as optim\n",
    "import numpy as np\n",
    "import csv\n",
    "from dragon import dragonV"
   ]
  },
  {
   "cell_type": "markdown",
   "metadata": {},
   "source": [
    "# define network"
   ]
  },
  {
   "cell_type": "code",
   "execution_count": 3,
   "metadata": {},
   "outputs": [],
   "source": [
    "class LSTM(nn.Module):\n",
    "    def __init__(self, input_size, hidden_size, output_size):\n",
    "        super(LSTM, self).__init__()\n",
    "        \n",
    "        self.hidden_size = hidden_size\n",
    "        \n",
    "        self.lstm = nn.LSTM(input_size, hidden_size, batch_first=True)\n",
    "        self.fc = nn.Linear(hidden_size, output_size)\n",
    "        self.sigmoid = nn.Sigmoid()\n",
    "\n",
    "    def forward(self, x):\n",
    "        _, (hidden, _) = self.lstm(x)\n",
    "        out = self.fc(hidden[-1])\n",
    "        out = self.sigmoid(out)\n",
    "        return out"
   ]
  },
  {
   "cell_type": "markdown",
   "metadata": {},
   "source": [
    "# fetch data"
   ]
  },
  {
   "cell_type": "code",
   "execution_count": 11,
   "metadata": {},
   "outputs": [],
   "source": [
    "root_path = 'C:/Users/admin/Desktop/Philadelphia/inputs/'\n",
    "npz_file_name = '1_B.npz'\n",
    "video_file_name = 'openpose_render_video.mp4'"
   ]
  },
  {
   "cell_type": "code",
   "execution_count": 5,
   "metadata": {},
   "outputs": [],
   "source": [
    "data = np.load(root_path + npz_file_name, encoding='latin1', allow_pickle=True)"
   ]
  },
  {
   "cell_type": "code",
   "execution_count": 6,
   "metadata": {},
   "outputs": [],
   "source": [
    "# read npz\n",
    "keypoints = data['keypoints']\n",
    "keypoints = np.array(keypoints, dtype=np.float32)"
   ]
  },
  {
   "cell_type": "code",
   "execution_count": 12,
   "metadata": {},
   "outputs": [],
   "source": [
    "total_video_frame_len = dragonV.get_total_frame(root_path + video_file_name)"
   ]
  },
  {
   "cell_type": "code",
   "execution_count": 14,
   "metadata": {},
   "outputs": [
    {
     "name": "stdout",
     "output_type": "stream",
     "text": [
      "keypoints_len : 316\n",
      "video_total_frame_len : 316\n"
     ]
    }
   ],
   "source": [
    "print(f'keypoints_len : {len(keypoints)}')\n",
    "print(f'video_total_frame_len : {total_video_frame_len}')"
   ]
  },
  {
   "cell_type": "code",
   "execution_count": 16,
   "metadata": {},
   "outputs": [
    {
     "name": "stdout",
     "output_type": "stream",
     "text": [
      "316\n",
      "25\n",
      "[[  0.       0.    ]\n",
      " [812.943  171.217 ]\n",
      " [924.63   180.099 ]\n",
      " [933.513  353.696 ]\n",
      " [930.51   480.158 ]\n",
      " [715.726  153.646 ]\n",
      " [680.387  315.424 ]\n",
      " [692.06   441.948 ]\n",
      " [798.135  483.197 ]\n",
      " [859.91   489.105 ]\n",
      " [862.86   712.81  ]\n",
      " [851.082  910.06  ]\n",
      " [739.244  480.214 ]\n",
      " [742.288  712.78  ]\n",
      " [765.624  903.996 ]\n",
      " [  0.       0.    ]\n",
      " [  0.       0.    ]\n",
      " [895.244   62.2961]\n",
      " [789.377   56.4336]\n",
      " [754.016  889.394 ]\n",
      " [742.23   901.096 ]\n",
      " [765.841  924.655 ]\n",
      " [883.582  901.144 ]\n",
      " [886.457  907.047 ]\n",
      " [836.437  930.696 ]]\n"
     ]
    }
   ],
   "source": [
    "'''\n",
    "데이터 특성 파악\n",
    "'''\n",
    "print(len(keypoints))\n",
    "print(len(keypoints[0]))\n",
    "print(keypoints[0])"
   ]
  },
  {
   "cell_type": "markdown",
   "metadata": {},
   "source": [
    "# joint_pose_2d_data 형태 변환"
   ]
  },
  {
   "cell_type": "code",
   "execution_count": 24,
   "metadata": {},
   "outputs": [],
   "source": [
    "keypoints_list = keypoints.tolist()\n",
    "\n",
    "total_frame_data_list = []\n",
    "for each_frame in keypoints_list:\n",
    "    tmp = []\n",
    "    for joint_idx in range(0, len(each_frame)):\n",
    "        x = each_frame[joint_idx][0]\n",
    "        y = each_frame[joint_idx][1]\n",
    "\n",
    "        tmp.append(x)\n",
    "        tmp.append(y)\n",
    "    \n",
    "    total_frame_data_list.append(tmp)"
   ]
  },
  {
   "cell_type": "code",
   "execution_count": 27,
   "metadata": {},
   "outputs": [
    {
     "data": {
      "text/plain": [
       "316"
      ]
     },
     "execution_count": 27,
     "metadata": {},
     "output_type": "execute_result"
    }
   ],
   "source": [
    "len(total_frame_data_list)"
   ]
  },
  {
   "cell_type": "markdown",
   "metadata": {},
   "source": [
    "# data 전처리과정 : total_frame_data_list"
   ]
  },
  {
   "cell_type": "code",
   "execution_count": 28,
   "metadata": {},
   "outputs": [],
   "source": [
    "#using openpose joint idx\n",
    "seleted_openpose_joint_idx_list = [8, 9, 10, 11, 12, 13, 14, 19, 20, 21, 22, 23, 24]"
   ]
  },
  {
   "cell_type": "code",
   "execution_count": 30,
   "metadata": {},
   "outputs": [],
   "source": [
    "#normalize\n",
    "norm_total_frame_data_list = dragonV.nomalize_data(total_frame_data_list)"
   ]
  },
  {
   "cell_type": "code",
   "execution_count": 31,
   "metadata": {},
   "outputs": [],
   "source": [
    "#extract only lower joint pos(13) from all joint pos(25)\n",
    "norm_total_frame_lower_joint_list = dragonV.get_selected_joint_pos_frame_list(norm_total_frame_data_list, seleted_openpose_joint_idx_list)"
   ]
  },
  {
   "cell_type": "markdown",
   "metadata": {},
   "source": [
    "# norm_lower_joint_list -> torch : convert dtype"
   ]
  },
  {
   "cell_type": "code",
   "execution_count": 35,
   "metadata": {},
   "outputs": [
    {
     "name": "stdout",
     "output_type": "stream",
     "text": [
      "norm_dat_len : 316\n"
     ]
    }
   ],
   "source": [
    "'''\n",
    "check data shape\n",
    "'''\n",
    "norm_data_len = len(norm_total_frame_lower_joint_list)\n",
    "print(f'norm_dat_len : {norm_data_len}')"
   ]
  },
  {
   "cell_type": "code",
   "execution_count": 36,
   "metadata": {},
   "outputs": [
    {
     "data": {
      "text/plain": [
       "array([6.91364812e-02, 9.82784883e-01, 9.31170169e-02, 9.83661168e-01,\n",
       "       2.36435170e-02, 1.00000000e+00, 6.92694090e-02, 1.00000000e+00,\n",
       "       7.81096969e-02, 9.82798604e-01, 2.75956925e-02, 1.00000000e+00,\n",
       "       1.48978422e-02, 9.99938293e-01, 0.00000000e+00, 9.74902543e-01,\n",
       "       0.00000000e+00, 9.93781254e-01, 5.44943929e-04, 9.99862932e-01,\n",
       "       3.21124959e-02, 9.99922067e-01, 6.14713637e-02, 1.00000000e+00,\n",
       "       2.28733863e-02, 9.99995927e-01])"
      ]
     },
     "execution_count": 36,
     "metadata": {},
     "output_type": "execute_result"
    }
   ],
   "source": [
    "np.array(norm_total_frame_lower_joint_list[0])"
   ]
  },
  {
   "cell_type": "code",
   "execution_count": 37,
   "metadata": {},
   "outputs": [],
   "source": [
    "trimmed_data = []\n",
    "for idx in range(0, norm_data_len - 8):\n",
    "    trimmed_data.append(norm_total_frame_lower_joint_list[idx:idx+9])"
   ]
  },
  {
   "cell_type": "code",
   "execution_count": 42,
   "metadata": {},
   "outputs": [
    {
     "name": "stdout",
     "output_type": "stream",
     "text": [
      "samples_num : 308\n",
      "timesteps : 9\n",
      "input_size : 26\n"
     ]
    }
   ],
   "source": [
    "print(f'samples_num : {len(trimmed_data)}')\n",
    "print(f'timesteps : {len(trimmed_data[0])}')\n",
    "print(f'input_size : {len(trimmed_data[0][0])}')"
   ]
  },
  {
   "cell_type": "code",
   "execution_count": 41,
   "metadata": {},
   "outputs": [
    {
     "data": {
      "text/plain": [
       "array([[6.91364812e-02, 9.82784883e-01, 9.31170169e-02, 9.83661168e-01,\n",
       "        2.36435170e-02, 1.00000000e+00, 6.92694090e-02, 1.00000000e+00,\n",
       "        7.81096969e-02, 9.82798604e-01, 2.75956925e-02, 1.00000000e+00,\n",
       "        1.48978422e-02, 9.99938293e-01, 0.00000000e+00, 9.74902543e-01,\n",
       "        0.00000000e+00, 9.93781254e-01, 5.44943929e-04, 9.99862932e-01,\n",
       "        3.21124959e-02, 9.99922067e-01, 6.14713637e-02, 1.00000000e+00,\n",
       "        2.28733863e-02, 9.99995927e-01],\n",
       "       [5.20340526e-02, 9.82664078e-01, 9.27148075e-02, 9.83505103e-01,\n",
       "        2.33795294e-02, 9.99818318e-01, 6.92143949e-02, 9.99964417e-01,\n",
       "        7.78182478e-02, 9.82645856e-01, 2.75442567e-02, 9.91309539e-01,\n",
       "        1.48708373e-02, 9.99878919e-01, 1.44383791e-02, 9.81052810e-01,\n",
       "        0.00000000e+00, 9.93749364e-01, 4.04417049e-04, 9.99807580e-01,\n",
       "        3.17731532e-02, 9.99922067e-01, 6.12247075e-02, 9.99974148e-01,\n",
       "        2.28502757e-02, 9.99989878e-01],\n",
       "       [5.18756868e-02, 9.82756087e-01, 9.26040193e-02, 9.83588746e-01,\n",
       "        2.33286027e-02, 9.99946350e-01, 6.92221162e-02, 9.99958017e-01,\n",
       "        7.76859914e-02, 9.82719466e-01, 2.75536345e-02, 9.91392294e-01,\n",
       "        1.48708373e-02, 9.99864011e-01, 1.44783247e-02, 9.81052810e-01,\n",
       "        1.45156025e-05, 9.93743012e-01, 3.75095919e-04, 9.99795335e-01,\n",
       "        3.17624702e-02, 9.99922067e-01, 6.12353771e-02, 9.99974148e-01,\n",
       "        2.28809327e-02, 9.99989878e-01],\n",
       "       [5.15417960e-02, 9.82733085e-01, 9.24937128e-02, 9.83599796e-01,\n",
       "        2.33457515e-02, 9.99833231e-01, 6.91825447e-02, 9.99911939e-01,\n",
       "        7.75270681e-02, 9.82651386e-01, 2.74465005e-02, 9.91226785e-01,\n",
       "        1.49248472e-02, 9.99827842e-01, 2.89365242e-02, 9.74915537e-01,\n",
       "        1.79815729e-04, 9.93687788e-01, 3.45774789e-04, 9.99752353e-01,\n",
       "        3.15877716e-02, 9.99887459e-01, 6.10194745e-02, 9.99939767e-01,\n",
       "        2.29507362e-02, 9.99947417e-01],\n",
       "       [3.46620804e-02, 9.82790678e-01, 7.06958897e-02, 9.83404801e-01,\n",
       "        2.33457515e-02, 9.82369388e-01, 6.90247413e-02, 9.99903491e-01,\n",
       "        6.49495055e-02, 9.82804306e-01, 2.73535751e-02, 9.82563008e-01,\n",
       "        1.48922437e-02, 9.99834324e-01, 2.91264948e-02, 9.81063441e-01,\n",
       "        1.79815729e-04, 9.93706844e-01, 4.10138246e-04, 9.99760475e-01,\n",
       "        3.10831565e-02, 9.99844134e-01, 6.06491765e-02, 9.99894624e-01,\n",
       "        2.27186866e-02, 9.99951491e-01],\n",
       "       [3.45391056e-02, 9.82877068e-01, 7.05619805e-02, 9.83638897e-01,\n",
       "        2.35582927e-02, 9.82378299e-01, 6.91666196e-02, 9.99863684e-01,\n",
       "        6.48786635e-02, 9.82753333e-01, 2.72416101e-02, 9.82477369e-01,\n",
       "        1.48599694e-02, 9.93940263e-01, 2.93762315e-02, 9.81082866e-01,\n",
       "        2.52393741e-04, 9.93704770e-01, 2.81411333e-04, 9.99701125e-01,\n",
       "        3.16286184e-02, 9.99870156e-01, 6.09472978e-02, 9.99924807e-01,\n",
       "        2.27649079e-02, 9.99923101e-01],\n",
       "       [1.82563895e-02, 9.82888481e-01, 7.06409773e-02, 9.83510714e-01,\n",
       "        6.80755358e-05, 9.82187524e-01, 6.89769660e-02, 9.99892995e-01,\n",
       "        6.47065415e-02, 9.82826942e-01, 2.70742308e-02, 9.82672265e-01,\n",
       "        1.49139793e-02, 9.99861937e-01, 2.92015073e-02, 9.81226979e-01,\n",
       "        2.47653953e-04, 9.93815217e-01, 3.51495986e-04, 9.99821949e-01,\n",
       "        3.15362418e-02, 9.99824717e-01, 6.08136139e-02, 9.99888194e-01,\n",
       "        2.26182262e-02, 9.99929273e-01],\n",
       "       [1.80104400e-02, 9.83049672e-01, 7.02382862e-02, 9.83688879e-01,\n",
       "        2.33202881e-02, 9.82390302e-01, 6.90561090e-02, 9.99972737e-01,\n",
       "        5.23142995e-02, 9.83030836e-01, 2.70415507e-02, 9.82415348e-01,\n",
       "        1.49893956e-02, 9.99904328e-01, 1.46981784e-02, 9.81136679e-01,\n",
       "        1.21457082e-04, 9.93821569e-01, 5.15622799e-04, 9.99871054e-01,\n",
       "        3.16085092e-02, 9.99896177e-01, 6.08236559e-02, 9.99950527e-01,\n",
       "        2.26262441e-02, 1.00000000e+00],\n",
       "       [1.76590325e-02, 9.83015081e-01, 6.96385847e-02, 9.83516324e-01,\n",
       "        2.35328293e-02, 9.64732775e-01, 6.90561090e-02, 9.99802886e-01,\n",
       "        3.93440079e-02, 9.82985564e-01, 2.69670968e-02, 9.65344530e-01,\n",
       "        1.49139793e-02, 9.99819416e-01, 2.90716077e-02, 9.81155973e-01,\n",
       "        1.84555517e-04, 9.93781254e-01, 3.80817116e-04, 9.99793211e-01,\n",
       "        3.21124959e-02, 9.99878874e-01, 6.10088049e-02, 9.99935567e-01,\n",
       "        2.25875692e-02, 9.99878665e-01]])"
      ]
     },
     "execution_count": 41,
     "metadata": {},
     "output_type": "execute_result"
    }
   ],
   "source": [
    "np.array(trimmed_data[0])"
   ]
  },
  {
   "cell_type": "code",
   "execution_count": 43,
   "metadata": {},
   "outputs": [],
   "source": [
    "input_data_np = np.array(trimmed_data)\n",
    "input_data_tensor = torch.tensor(input_data_np, dtype=torch.float32)"
   ]
  },
  {
   "cell_type": "code",
   "execution_count": 44,
   "metadata": {},
   "outputs": [
    {
     "name": "stdout",
     "output_type": "stream",
     "text": [
      "NaN 값이 있는지 여부: False\n"
     ]
    }
   ],
   "source": [
    "#data validation check\n",
    "has_nan = torch.isnan(input_data_tensor).any().item()\n",
    "print(\"NaN 값이 있는지 여부:\", has_nan)"
   ]
  },
  {
   "cell_type": "markdown",
   "metadata": {},
   "source": [
    "# model load"
   ]
  },
  {
   "cell_type": "markdown",
   "metadata": {},
   "source": []
  },
  {
   "cell_type": "code",
   "execution_count": 46,
   "metadata": {},
   "outputs": [
    {
     "data": {
      "text/plain": [
       "<All keys matched successfully>"
      ]
     },
     "execution_count": 46,
     "metadata": {},
     "output_type": "execute_result"
    }
   ],
   "source": [
    "input_size = 26\n",
    "output_size = 4\n",
    "hidden_size = 128\n",
    "\n",
    "model_weights_path = 'C:/Users/admin/Desktop/Philadelphia/models/1000_epochs.pth'\n",
    "\n",
    "model = LSTM(input_size, hidden_size, output_size)\n",
    "model.load_state_dict(torch.load(model_weights_path))"
   ]
  },
  {
   "cell_type": "code",
   "execution_count": 47,
   "metadata": {},
   "outputs": [
    {
     "data": {
      "text/plain": [
       "LSTM(\n",
       "  (lstm): LSTM(26, 128, batch_first=True)\n",
       "  (fc): Linear(in_features=128, out_features=4, bias=True)\n",
       "  (sigmoid): Sigmoid()\n",
       ")"
      ]
     },
     "execution_count": 47,
     "metadata": {},
     "output_type": "execute_result"
    }
   ],
   "source": [
    "model.eval()"
   ]
  },
  {
   "cell_type": "code",
   "execution_count": 48,
   "metadata": {},
   "outputs": [],
   "source": [
    "outputs = model(input_data_tensor)"
   ]
  },
  {
   "cell_type": "code",
   "execution_count": 53,
   "metadata": {},
   "outputs": [
    {
     "name": "stdout",
     "output_type": "stream",
     "text": [
      "[0.9787519574165344, 0.150516539812088, 1.992872707134996e-11, 3.8055914046708494e-06]\n"
     ]
    }
   ],
   "source": [
    "print(outputs[0].tolist())"
   ]
  },
  {
   "cell_type": "markdown",
   "metadata": {},
   "source": [
    "# model outputs 해석 코드"
   ]
  },
  {
   "cell_type": "code",
   "execution_count": 80,
   "metadata": {},
   "outputs": [],
   "source": [
    "threshold = 0.5"
   ]
  },
  {
   "cell_type": "code",
   "execution_count": 81,
   "metadata": {},
   "outputs": [],
   "source": [
    "predicted = (outputs > threshold).int()"
   ]
  },
  {
   "cell_type": "code",
   "execution_count": 118,
   "metadata": {},
   "outputs": [],
   "source": [
    "padding_np = np.array([0, 0, 0, 0])"
   ]
  },
  {
   "cell_type": "code",
   "execution_count": 113,
   "metadata": {},
   "outputs": [],
   "source": [
    "predicted_np = np.array(predicted)"
   ]
  },
  {
   "cell_type": "code",
   "execution_count": 124,
   "metadata": {},
   "outputs": [],
   "source": [
    "# 새로운 배열 생성\n",
    "padded_predicted_np = np.vstack([padding_np] * 4 + [predicted_np])"
   ]
  },
  {
   "cell_type": "code",
   "execution_count": 117,
   "metadata": {},
   "outputs": [
    {
     "data": {
      "text/plain": [
       "array([[1, 0, 0, 0],\n",
       "       [1, 0, 0, 0],\n",
       "       [1, 0, 0, 0],\n",
       "       ...,\n",
       "       [0, 1, 1, 1],\n",
       "       [0, 1, 1, 1],\n",
       "       [0, 1, 1, 1]])"
      ]
     },
     "execution_count": 117,
     "metadata": {},
     "output_type": "execute_result"
    }
   ],
   "source": [
    "predicted_np"
   ]
  },
  {
   "cell_type": "code",
   "execution_count": 114,
   "metadata": {},
   "outputs": [],
   "source": [
    "padded_predicted_np = np.append(padding_np, predicted_np)"
   ]
  },
  {
   "cell_type": "code",
   "execution_count": 126,
   "metadata": {},
   "outputs": [
    {
     "data": {
      "text/plain": [
       "312"
      ]
     },
     "execution_count": 126,
     "metadata": {},
     "output_type": "execute_result"
    }
   ],
   "source": [
    "len(padded_predicted_np)"
   ]
  },
  {
   "cell_type": "code",
   "execution_count": 127,
   "metadata": {},
   "outputs": [],
   "source": [
    "padded_predicted_list = padded_predicted_np.tolist()"
   ]
  },
  {
   "cell_type": "code",
   "execution_count": 128,
   "metadata": {},
   "outputs": [
    {
     "data": {
      "text/plain": [
       "[[0, 0, 0, 0],\n",
       " [0, 0, 0, 0],\n",
       " [0, 0, 0, 0],\n",
       " [0, 0, 0, 0],\n",
       " [1, 0, 0, 0],\n",
       " [1, 0, 0, 0],\n",
       " [1, 0, 0, 0],\n",
       " [1, 0, 0, 0],\n",
       " [0, 0, 0, 0],\n",
       " [1, 1, 0, 0],\n",
       " [0, 1, 0, 0],\n",
       " [0, 1, 0, 0],\n",
       " [1, 1, 0, 0],\n",
       " [1, 1, 0, 0],\n",
       " [1, 1, 0, 0],\n",
       " [1, 1, 0, 0],\n",
       " [1, 1, 0, 0],\n",
       " [0, 1, 0, 0],\n",
       " [0, 1, 0, 0],\n",
       " [0, 0, 0, 0],\n",
       " [0, 0, 0, 0],\n",
       " [0, 0, 0, 0],\n",
       " [0, 0, 0, 1],\n",
       " [0, 0, 0, 0],\n",
       " [0, 0, 0, 0],\n",
       " [0, 0, 0, 0],\n",
       " [0, 0, 0, 0],\n",
       " [0, 0, 0, 0],\n",
       " [0, 0, 0, 0],\n",
       " [0, 0, 0, 0],\n",
       " [0, 0, 0, 0],\n",
       " [0, 0, 0, 0],\n",
       " [0, 0, 0, 0],\n",
       " [0, 0, 0, 0],\n",
       " [0, 0, 0, 0],\n",
       " [0, 0, 0, 0],\n",
       " [0, 0, 0, 0],\n",
       " [0, 0, 0, 0],\n",
       " [0, 0, 0, 0],\n",
       " [0, 0, 0, 0],\n",
       " [0, 0, 0, 1],\n",
       " [0, 0, 0, 1],\n",
       " [0, 0, 0, 0],\n",
       " [0, 0, 0, 0],\n",
       " [0, 0, 0, 0],\n",
       " [0, 0, 0, 0],\n",
       " [0, 0, 0, 0],\n",
       " [0, 0, 1, 1],\n",
       " [0, 0, 1, 1],\n",
       " [0, 0, 1, 1],\n",
       " [0, 0, 1, 1],\n",
       " [0, 0, 0, 0],\n",
       " [0, 0, 0, 0],\n",
       " [0, 0, 0, 0],\n",
       " [0, 0, 0, 0],\n",
       " [0, 0, 0, 0],\n",
       " [0, 0, 0, 0],\n",
       " [1, 1, 0, 0],\n",
       " [0, 1, 0, 0],\n",
       " [1, 1, 0, 0],\n",
       " [1, 1, 0, 0],\n",
       " [0, 1, 0, 0],\n",
       " [0, 1, 0, 0],\n",
       " [0, 0, 0, 0],\n",
       " [0, 0, 0, 0],\n",
       " [0, 0, 0, 0],\n",
       " [0, 0, 1, 1],\n",
       " [0, 0, 1, 1],\n",
       " [0, 0, 1, 1],\n",
       " [0, 0, 0, 0],\n",
       " [0, 0, 1, 1],\n",
       " [0, 0, 1, 1],\n",
       " [0, 0, 1, 1],\n",
       " [0, 0, 1, 1],\n",
       " [0, 0, 1, 1],\n",
       " [0, 0, 0, 0],\n",
       " [0, 0, 1, 0],\n",
       " [0, 0, 0, 0],\n",
       " [0, 0, 0, 0],\n",
       " [0, 0, 1, 0],\n",
       " [0, 0, 1, 1],\n",
       " [0, 0, 1, 0],\n",
       " [0, 0, 0, 0],\n",
       " [0, 0, 0, 0],\n",
       " [0, 0, 0, 0],\n",
       " [0, 0, 0, 0],\n",
       " [1, 1, 0, 0],\n",
       " [1, 1, 0, 0],\n",
       " [1, 1, 0, 0],\n",
       " [1, 1, 0, 0],\n",
       " [1, 1, 0, 0],\n",
       " [1, 1, 0, 0],\n",
       " [1, 1, 0, 0],\n",
       " [1, 1, 0, 0],\n",
       " [1, 1, 0, 0],\n",
       " [0, 0, 0, 0],\n",
       " [0, 0, 0, 0],\n",
       " [0, 0, 0, 0],\n",
       " [0, 0, 0, 0],\n",
       " [0, 0, 0, 0],\n",
       " [0, 1, 0, 0],\n",
       " [0, 0, 0, 0],\n",
       " [1, 1, 0, 0],\n",
       " [1, 1, 0, 0],\n",
       " [1, 1, 0, 0],\n",
       " [0, 0, 0, 0],\n",
       " [0, 0, 0, 0],\n",
       " [0, 0, 0, 0],\n",
       " [0, 0, 0, 0],\n",
       " [0, 0, 0, 0],\n",
       " [0, 0, 0, 0],\n",
       " [0, 0, 0, 1],\n",
       " [0, 0, 0, 0],\n",
       " [0, 0, 0, 0],\n",
       " [1, 1, 0, 0],\n",
       " [0, 0, 0, 0],\n",
       " [0, 0, 0, 0],\n",
       " [1, 1, 0, 0],\n",
       " [0, 0, 0, 0],\n",
       " [1, 1, 0, 0],\n",
       " [1, 1, 0, 0],\n",
       " [1, 1, 0, 0],\n",
       " [1, 1, 0, 0],\n",
       " [1, 1, 0, 0],\n",
       " [0, 1, 0, 0],\n",
       " [0, 0, 0, 0],\n",
       " [0, 0, 0, 0],\n",
       " [0, 0, 0, 0],\n",
       " [0, 0, 0, 0],\n",
       " [0, 0, 0, 0],\n",
       " [0, 0, 0, 0],\n",
       " [0, 0, 0, 0],\n",
       " [0, 0, 0, 1],\n",
       " [0, 0, 0, 1],\n",
       " [0, 0, 0, 0],\n",
       " [0, 0, 0, 0],\n",
       " [0, 0, 0, 0],\n",
       " [0, 0, 0, 0],\n",
       " [0, 0, 0, 0],\n",
       " [0, 0, 0, 0],\n",
       " [0, 0, 0, 0],\n",
       " [0, 0, 0, 0],\n",
       " [1, 1, 0, 0],\n",
       " [1, 1, 0, 0],\n",
       " [1, 1, 0, 0],\n",
       " [0, 1, 0, 0],\n",
       " [0, 0, 0, 0],\n",
       " [0, 0, 0, 0],\n",
       " [0, 0, 0, 0],\n",
       " [1, 0, 0, 0],\n",
       " [1, 1, 0, 0],\n",
       " [0, 0, 0, 0],\n",
       " [1, 1, 0, 0],\n",
       " [0, 0, 0, 0],\n",
       " [0, 0, 0, 0],\n",
       " [1, 1, 0, 0],\n",
       " [0, 0, 0, 0],\n",
       " [0, 0, 0, 0],\n",
       " [0, 0, 0, 0],\n",
       " [0, 0, 0, 0],\n",
       " [0, 0, 0, 0],\n",
       " [0, 0, 0, 0],\n",
       " [0, 0, 0, 0],\n",
       " [1, 0, 0, 0],\n",
       " [1, 0, 0, 0],\n",
       " [0, 0, 0, 0],\n",
       " [0, 0, 0, 0],\n",
       " [0, 0, 0, 0],\n",
       " [0, 0, 0, 0],\n",
       " [0, 0, 0, 0],\n",
       " [0, 0, 0, 0],\n",
       " [0, 0, 0, 0],\n",
       " [0, 0, 0, 0],\n",
       " [0, 0, 0, 0],\n",
       " [1, 1, 0, 0],\n",
       " [1, 0, 0, 0],\n",
       " [0, 0, 0, 0],\n",
       " [1, 1, 0, 0],\n",
       " [1, 1, 0, 0],\n",
       " [1, 1, 0, 0],\n",
       " [1, 1, 0, 0],\n",
       " [1, 1, 0, 0],\n",
       " [1, 1, 0, 0],\n",
       " [1, 0, 0, 0],\n",
       " [1, 1, 0, 0],\n",
       " [1, 1, 0, 0],\n",
       " [1, 1, 0, 0],\n",
       " [1, 1, 0, 0],\n",
       " [1, 1, 0, 0],\n",
       " [1, 1, 0, 0],\n",
       " [0, 0, 0, 0],\n",
       " [0, 0, 0, 0],\n",
       " [0, 0, 0, 0],\n",
       " [0, 0, 0, 0],\n",
       " [0, 0, 0, 0],\n",
       " [0, 0, 0, 0],\n",
       " [0, 0, 0, 0],\n",
       " [0, 0, 0, 0],\n",
       " [0, 0, 0, 0],\n",
       " [0, 0, 0, 0],\n",
       " [0, 0, 0, 0],\n",
       " [0, 0, 0, 0],\n",
       " [0, 0, 0, 0],\n",
       " [1, 1, 0, 0],\n",
       " [1, 1, 0, 0],\n",
       " [1, 1, 0, 0],\n",
       " [1, 1, 0, 0],\n",
       " [1, 1, 0, 0],\n",
       " [0, 0, 0, 0],\n",
       " [0, 0, 0, 0],\n",
       " [1, 1, 0, 0],\n",
       " [0, 0, 0, 0],\n",
       " [1, 1, 0, 0],\n",
       " [0, 0, 0, 0],\n",
       " [0, 1, 0, 0],\n",
       " [0, 1, 0, 0],\n",
       " [0, 1, 0, 0],\n",
       " [0, 1, 0, 0],\n",
       " [1, 1, 0, 0],\n",
       " [1, 1, 0, 0],\n",
       " [1, 1, 0, 0],\n",
       " [1, 1, 0, 0],\n",
       " [0, 1, 0, 0],\n",
       " [0, 0, 1, 1],\n",
       " [0, 1, 0, 0],\n",
       " [0, 1, 0, 1],\n",
       " [0, 0, 1, 1],\n",
       " [1, 1, 0, 0],\n",
       " [1, 1, 0, 0],\n",
       " [1, 1, 0, 0],\n",
       " [0, 1, 0, 1],\n",
       " [0, 1, 0, 0],\n",
       " [1, 1, 0, 0],\n",
       " [1, 1, 0, 0],\n",
       " [1, 1, 0, 0],\n",
       " [1, 1, 0, 0],\n",
       " [1, 1, 0, 0],\n",
       " [1, 1, 0, 0],\n",
       " [1, 1, 0, 0],\n",
       " [1, 1, 0, 1],\n",
       " [0, 1, 0, 1],\n",
       " [0, 1, 1, 1],\n",
       " [0, 1, 1, 1],\n",
       " [0, 0, 1, 1],\n",
       " [0, 0, 1, 1],\n",
       " [0, 0, 1, 1],\n",
       " [0, 0, 1, 1],\n",
       " [0, 1, 1, 1],\n",
       " [1, 1, 0, 1],\n",
       " [1, 1, 0, 0],\n",
       " [0, 0, 0, 1],\n",
       " [0, 1, 1, 1],\n",
       " [0, 0, 1, 1],\n",
       " [0, 0, 1, 1],\n",
       " [0, 0, 1, 1],\n",
       " [0, 0, 1, 1],\n",
       " [0, 0, 1, 1],\n",
       " [0, 0, 1, 1],\n",
       " [0, 0, 1, 1],\n",
       " [0, 0, 1, 1],\n",
       " [0, 0, 1, 1],\n",
       " [0, 0, 1, 1],\n",
       " [0, 0, 1, 1],\n",
       " [0, 0, 1, 1],\n",
       " [0, 0, 1, 1],\n",
       " [0, 0, 1, 1],\n",
       " [0, 0, 1, 1],\n",
       " [0, 0, 1, 1],\n",
       " [0, 0, 1, 1],\n",
       " [0, 0, 1, 1],\n",
       " [0, 0, 1, 1],\n",
       " [0, 0, 1, 1],\n",
       " [0, 0, 1, 1],\n",
       " [0, 0, 1, 1],\n",
       " [0, 1, 1, 1],\n",
       " [0, 1, 1, 1],\n",
       " [0, 1, 1, 1],\n",
       " [0, 1, 1, 1],\n",
       " [0, 0, 1, 1],\n",
       " [0, 0, 1, 1],\n",
       " [0, 0, 1, 1],\n",
       " [0, 0, 1, 1],\n",
       " [0, 0, 1, 1],\n",
       " [0, 0, 1, 1],\n",
       " [0, 0, 1, 1],\n",
       " [0, 0, 1, 1],\n",
       " [0, 0, 1, 1],\n",
       " [0, 0, 1, 1],\n",
       " [0, 0, 0, 1],\n",
       " [0, 0, 1, 1],\n",
       " [0, 0, 1, 1],\n",
       " [0, 0, 1, 1],\n",
       " [0, 0, 1, 1],\n",
       " [0, 0, 1, 1],\n",
       " [0, 0, 1, 1],\n",
       " [0, 0, 1, 1],\n",
       " [0, 0, 1, 1],\n",
       " [0, 0, 1, 1],\n",
       " [0, 0, 1, 1],\n",
       " [0, 0, 1, 1],\n",
       " [0, 0, 1, 1],\n",
       " [0, 0, 1, 1],\n",
       " [0, 0, 1, 1],\n",
       " [0, 0, 1, 1],\n",
       " [0, 1, 1, 1],\n",
       " [1, 1, 1, 1],\n",
       " [1, 1, 1, 1],\n",
       " [0, 1, 1, 1],\n",
       " [0, 0, 1, 1],\n",
       " [0, 1, 1, 1],\n",
       " [0, 1, 1, 1],\n",
       " [0, 1, 1, 1]]"
      ]
     },
     "execution_count": 128,
     "metadata": {},
     "output_type": "execute_result"
    }
   ],
   "source": [
    "padded_predicted_list"
   ]
  },
  {
   "cell_type": "code",
   "execution_count": null,
   "metadata": {},
   "outputs": [],
   "source": []
  }
 ],
 "metadata": {
  "kernelspec": {
   "display_name": "Python 3",
   "language": "python",
   "name": "python3"
  },
  "language_info": {
   "codemirror_mode": {
    "name": "ipython",
    "version": 3
   },
   "file_extension": ".py",
   "mimetype": "text/x-python",
   "name": "python",
   "nbconvert_exporter": "python",
   "pygments_lexer": "ipython3",
   "version": "3.11.7"
  }
 },
 "nbformat": 4,
 "nbformat_minor": 2
}
